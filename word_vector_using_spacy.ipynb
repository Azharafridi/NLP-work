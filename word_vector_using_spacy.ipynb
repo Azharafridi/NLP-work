{
 "cells": [
  {
   "cell_type": "code",
   "execution_count": 1,
   "id": "a6220d9d",
   "metadata": {},
   "outputs": [],
   "source": [
    "import spacy\n",
    "nlp = spacy.load('en_core_web_lg')\n"
   ]
  },
  {
   "cell_type": "code",
   "execution_count": 2,
   "id": "52777575",
   "metadata": {},
   "outputs": [
    {
     "name": "stdout",
     "output_type": "stream",
     "text": [
      "dog  Vector :  True  OOV:  False\n",
      "cat  Vector :  True  OOV:  False\n",
      "banana  Vector :  True  OOV:  False\n",
      "afskfsd  Vector :  False  OOV:  True\n"
     ]
    }
   ],
   "source": [
    "doc = nlp(\"dog cat banana afskfsd\")\n",
    "\n",
    "for token in doc:\n",
    "    print(token.text,\" Vector : \",  token.has_vector,\" OOV: \" , token.is_oov)"
   ]
  },
  {
   "cell_type": "code",
   "execution_count": 3,
   "id": "aafaaea9",
   "metadata": {},
   "outputs": [
    {
     "data": {
      "text/plain": [
       "(300,)"
      ]
     },
     "execution_count": 3,
     "metadata": {},
     "output_type": "execute_result"
    }
   ],
   "source": [
    "doc[0].vector.shape"
   ]
  },
  {
   "cell_type": "code",
   "execution_count": 4,
   "id": "72ec04b5",
   "metadata": {},
   "outputs": [
    {
     "data": {
      "text/plain": [
       "(300,)"
      ]
     },
     "execution_count": 4,
     "metadata": {},
     "output_type": "execute_result"
    }
   ],
   "source": [
    "base_token = nlp(\"bread\")\n",
    "base_token.vector.shape"
   ]
  },
  {
   "cell_type": "code",
   "execution_count": 5,
   "id": "ff7c593c",
   "metadata": {},
   "outputs": [
    {
     "name": "stdout",
     "output_type": "stream",
     "text": [
      "sandwhich <-> bread:  0.528318455203526\n",
      "burger <-> bread:  0.4752069113758708\n",
      "car <-> bread:  0.06451533308853552\n",
      "tiger <-> bread:  0.04764611272488976\n",
      "human <-> bread:  0.2151154210812192\n",
      "wheat <-> bread:  0.615036141030184\n"
     ]
    }
   ],
   "source": [
    "doc = nlp(\"sandwhich burger car tiger human wheat\")\n",
    "\n",
    "for token in doc:\n",
    "    print(f\"{token.text} <-> {base_token.text}: \", token.similarity(base_token))\n",
    "    "
   ]
  },
  {
   "cell_type": "code",
   "execution_count": 6,
   "id": "5c9003fe",
   "metadata": {},
   "outputs": [],
   "source": [
    "def print_similarity(base_word, word_to_compare):\n",
    "    base_token = nlp(base_word)\n",
    "    doc = nlp(word_to_compare)\n",
    "    for token in doc:\n",
    "            print(f\"{token.text} <-> {base_token.text}: \", token.similarity(base_token))\n"
   ]
  },
  {
   "cell_type": "code",
   "execution_count": 7,
   "id": "98398333",
   "metadata": {},
   "outputs": [
    {
     "name": "stdout",
     "output_type": "stream",
     "text": [
      "apple <-> iphone:  0.4387907748060368\n",
      "samsung <-> iphone:  0.6708590303423401\n",
      "iphone <-> iphone:  0.9999999983096304\n",
      "dog <-> iphone:  0.08211864228011527\n",
      "kitten <-> iphone:  0.10222317834969896\n"
     ]
    }
   ],
   "source": [
    "print_similarity(\"iphone\", \"apple samsung iphone dog kitten \")"
   ]
  },
  {
   "cell_type": "code",
   "execution_count": 8,
   "id": "bbd33fdf",
   "metadata": {},
   "outputs": [],
   "source": [
    "king = nlp.vocab[\"king\"].vector\n",
    "man = nlp.vocab[\"man\"].vector\n",
    "woman = nlp.vocab[\"woman\"].vector\n",
    "queen = nlp.vocab[\"queen\"].vector\n",
    "\n",
    "result =  king - man + woman"
   ]
  },
  {
   "cell_type": "code",
   "execution_count": 11,
   "id": "2f112a11",
   "metadata": {},
   "outputs": [
    {
     "data": {
      "text/plain": [
       "array([[0.6178014]], dtype=float32)"
      ]
     },
     "execution_count": 11,
     "metadata": {},
     "output_type": "execute_result"
    }
   ],
   "source": [
    "from sklearn.metrics.pairwise import cosine_similarity\n",
    "cosine_similarity([result], [queen])\n"
   ]
  }
 ],
 "metadata": {
  "kernelspec": {
   "display_name": "Python 3 (ipykernel)",
   "language": "python",
   "name": "python3"
  },
  "language_info": {
   "codemirror_mode": {
    "name": "ipython",
    "version": 3
   },
   "file_extension": ".py",
   "mimetype": "text/x-python",
   "name": "python",
   "nbconvert_exporter": "python",
   "pygments_lexer": "ipython3",
   "version": "3.10.9"
  }
 },
 "nbformat": 4,
 "nbformat_minor": 5
}
